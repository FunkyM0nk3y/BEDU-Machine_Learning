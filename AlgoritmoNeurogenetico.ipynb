{
 "cells": [
  {
   "cell_type": "code",
   "execution_count": 4,
   "metadata": {},
   "outputs": [],
   "source": [
    "import numpy as np\n",
    "import random as rnd\n",
    "from matplotlib import pyplot as plt\n",
    "from sklearn.neural_network import MLPClassifier\n",
    "from sklearn.datasets.samples_generator import make_blobs\n",
    "from sklearn.model_selection import train_test_split\n",
    "import warnings\n",
    "warnings.filterwarnings('ignore')\n"
   ]
  },
  {
   "cell_type": "code",
   "execution_count": 5,
   "metadata": {},
   "outputs": [],
   "source": [
    "def inicializarIndividuo(individuo):\n",
    "    total = 1.0\n",
    "    cantidadGenes = len(individuo)\n",
    "    for counter in range(cantidadGenes):\n",
    "        individuo[counter] = rnd.randint(1, 8)\n",
    "    return individuo\n",
    "\n",
    "def generarPoblacion(cantidadDeIndividuos, cantidadDeGenes):\n",
    "    poblacion = np.zeros((cantidadDeIndividuos, cantidadDeGenes))\n",
    "    for counter in range(0, cantidadDeIndividuos):\n",
    "        poblacion[counter] = inicializarIndividuo(poblacion[counter])\n",
    "    return poblacion"
   ]
  },
  {
   "cell_type": "code",
   "execution_count": 6,
   "metadata": {},
   "outputs": [],
   "source": [
    "def cruzarIndividuos(individuo1, individuo2):\n",
    "    crossPoint = rnd.randint(1, len(individuo1) - 2)\n",
    "    hijo1 = np.append(individuo1[0:crossPoint], individuo2[crossPoint:len(individuo1)])\n",
    "    hijo2 = np.append(individuo2[0:crossPoint], individuo1[crossPoint:len(individuo1)])\n",
    "    return np.array([hijo1, hijo2])\n",
    "\n",
    "def cruzarPoblacion(poblacion, probabilidadDeCruza):    \n",
    "    nuevaPoblacion = None\n",
    "    for counter in range(len(poblacion)):\n",
    "        probabilidad = rnd.random()\n",
    "        if(probabilidad < probabilidadDeCruza):\n",
    "            pareja = rnd.randint(0, len(poblacion) - 2)\n",
    "            while pareja == counter:\n",
    "                pareja = rnd.randint(0, len(poblacion) - 2)\n",
    "            \n",
    "            nuevosIndividuos = cruzarIndividuos(poblacion[counter], poblacion[pareja])\n",
    "            \n",
    "            if nuevaPoblacion is None:\n",
    "                nuevaPoblacion = nuevosIndividuos\n",
    "            else:\n",
    "                nuevaPoblacion = np.concatenate((nuevaPoblacion, nuevosIndividuos))\n",
    "                \n",
    "    if not nuevaPoblacion is None:\n",
    "        poblacion = np.concatenate((poblacion, nuevaPoblacion))\n",
    "    return poblacion"
   ]
  },
  {
   "cell_type": "code",
   "execution_count": 7,
   "metadata": {},
   "outputs": [],
   "source": [
    "def mutacion(individuo):\n",
    "    mutationPoint = rnd.randint(1, len(individuo) -  2)\n",
    "    mutationValue = rnd.randint(1, 3)\n",
    "    individuoMutante = np.array(individuo, copy=True)\n",
    "    individuoMutante[mutationPoint] += mutationValue\n",
    "    #individuoMutante = ajustarIndividuo(individuoMutante)\n",
    "    return np.array([individuoMutante])\n",
    "\n",
    "def mutarPoblacion(poblacion, probabilidadDeMutacion):\n",
    "    nuevaPoblacion = None\n",
    "    for counter in range(len(poblacion)):\n",
    "        probabilidad = rnd.random()\n",
    "        if(probabilidad < probabilidadDeMutacion):\n",
    "            nuevoMutante = mutacion(poblacion[counter])\n",
    "            if nuevaPoblacion is None:\n",
    "                nuevaPoblacion = nuevoMutante\n",
    "            else:\n",
    "                nuevaPoblacion = np.concatenate((nuevaPoblacion, nuevoMutante))\n",
    "    if not nuevaPoblacion is None:        \n",
    "        poblacion = np.concatenate((poblacion, nuevaPoblacion))\n",
    "    return poblacion"
   ]
  },
  {
   "cell_type": "code",
   "execution_count": 8,
   "metadata": {},
   "outputs": [],
   "source": [
    "def evaluacion(poblacion, x_train, y_train, x_test, y_test):\n",
    "    puntaje = np.zeros(poblacion.shape[0])\n",
    "    \n",
    "    for counter in range(poblacion.shape[0]):\n",
    "        redNeuronal = MLPClassifier(hidden_layer_sizes=(int(poblacion[counter][0]),\n",
    "                                                    int(poblacion[counter][1]),\n",
    "                                                    int(poblacion[counter][2]),\n",
    "                                                    int(poblacion[counter][3])),\n",
    "                                    max_iter=100, activation ='logistic', tol= 1e-7)\n",
    "\n",
    "        redNeuronal.fit(x_train, y_train)\n",
    "        puntaje[counter] = redNeuronal.score(x_test, y_test)\n",
    "        \n",
    "    print(\"Entrenamientos completados!\")    \n",
    "    ordenDeMayorAMenor = np.argsort(-puntaje)\n",
    "    poblacionOrdenada = poblacion[ordenDeMayorAMenor]\n",
    "    mejorPuntaje = (np.sort(-puntaje)[0]) * -1\n",
    "    return poblacionOrdenada, mejorPuntaje, (np.sort(-puntaje)) * -1\n",
    "\n",
    "def eliminarIndividuosPorCantidad(poblacion, cantidadAMantener):    \n",
    "    return poblacion[:cantidadAMantener]"
   ]
  },
  {
   "cell_type": "code",
   "execution_count": 9,
   "metadata": {},
   "outputs": [
    {
     "name": "stdout",
     "output_type": "stream",
     "text": [
      "Poblacion original:\n",
      "[[6. 7. 4. 1.]\n",
      " [3. 6. 4. 3.]\n",
      " [3. 5. 8. 4.]\n",
      " [1. 2. 6. 3.]\n",
      " [7. 2. 6. 2.]\n",
      " [2. 6. 2. 4.]\n",
      " [2. 2. 4. 8.]\n",
      " [4. 4. 8. 5.]\n",
      " [7. 4. 3. 3.]\n",
      " [6. 4. 6. 3.]]\n"
     ]
    },
    {
     "data": {
      "image/png": "[encoded data removed]",
      "text/plain": [
       "<Figure size 432x288 with 1 Axes>"
      ]
     },
     "metadata": {
      "needs_background": "light"
     },
     "output_type": "display_data"
    }
   ],
   "source": [
    "poblacion = generarPoblacion(10, 4)\n",
    "print(\"Poblacion original:\")\n",
    "print(poblacion)\n",
    "\n",
    "x, y = make_blobs(n_samples=1000, centers=3, n_features=10)\n",
    "plt.scatter(x[:, 0], x[:, 1], c=y)\n",
    "plt.show()\n",
    "\n",
    "totalGeneraciones = 50\n",
    "x_train, x_test, y_train, y_test = train_test_split(x, y, test_size=0.4)"
   ]
  },
  {
   "cell_type": "code",
   "execution_count": 10,
   "metadata": {},
   "outputs": [
    {
     "name": "stdout",
     "output_type": "stream",
     "text": [
      "Entrenamientos completados!\n",
      "Mejor puntaje de la generación 0:0.6575\n",
      "Puntajes: [0.6575 0.6575 0.64   0.64   0.64   0.2975 0.2975 0.2975 0.2975 0.2975\n",
      " 0.2975 0.2975 0.2975 0.2975 0.2975 0.2975 0.2975 0.2975 0.2975 0.2975\n",
      " 0.2975]\n",
      "Entrenamientos completados!\n",
      "Mejor puntaje de la generación 1:0.64\n",
      "Puntajes: [0.64   0.5125 0.3425 0.2975 0.2975 0.2975 0.2975 0.2975 0.2975 0.2975]\n",
      "Entrenamientos completados!\n",
      "Mejor puntaje de la generación 2:0.6575\n",
      "Puntajes: [0.6575 0.6575 0.3425 0.2975 0.2975 0.2975 0.2975 0.2975]\n",
      "Entrenamientos completados!\n",
      "Mejor puntaje de la generación 3:0.64\n",
      "Puntajes: [0.64   0.64   0.64   0.2975 0.2975 0.2975 0.2975]\n",
      "Entrenamientos completados!\n",
      "Mejor puntaje de la generación 4:0.6575\n",
      "Puntajes: [0.6575 0.6575 0.6    0.2975 0.2975 0.2975 0.2975]\n",
      "Entrenamientos completados!\n",
      "Mejor puntaje de la generación 5:0.65\n",
      "Puntajes: [0.65   0.64   0.64   0.64   0.64   0.64   0.36   0.2975 0.2975 0.2975\n",
      " 0.2975 0.2975]\n",
      "Entrenamientos completados!\n",
      "Mejor puntaje de la generación 6:0.6575\n",
      "Puntajes: [0.6575 0.6575 0.6575 0.6575 0.64   0.64   0.3425 0.2975 0.2975 0.2975\n",
      " 0.2975 0.2975 0.2975]\n",
      "Entrenamientos completados!\n",
      "Mejor puntaje de la generación 7:0.6575\n",
      "Puntajes: [0.6575 0.64   0.2975 0.2975 0.2975 0.2975]\n",
      "Entrenamientos completados!\n",
      "Mejor puntaje de la generación 8:0.6575\n",
      "Puntajes: [0.6575 0.6575 0.64   0.64   0.64   0.3425 0.2975 0.2975 0.2975 0.2975]\n",
      "Entrenamientos completados!\n",
      "Mejor puntaje de la generación 9:0.6575\n",
      "Puntajes: [0.6575 0.64   0.64   0.64   0.64   0.3425 0.2975 0.2975 0.2975 0.2975]\n",
      "Entrenamientos completados!\n",
      "Mejor puntaje de la generación 10:0.6575\n",
      "Puntajes: [0.6575 0.6575 0.64   0.64   0.64   0.64   0.64   0.64   0.2975]\n",
      "Entrenamientos completados!\n",
      "Mejor puntaje de la generación 11:0.6575\n",
      "Puntajes: [0.6575 0.6575 0.6575 0.6575 0.64   0.64   0.64   0.64   0.64   0.64\n",
      " 0.64   0.2975]\n",
      "Entrenamientos completados!\n",
      "Mejor puntaje de la generación 12:0.7025\n",
      "Puntajes: [0.7025 0.6575 0.64   0.64   0.64   0.64   0.64   0.64   0.2975 0.2975\n",
      " 0.2975]\n",
      "Entrenamientos completados!\n",
      "Mejor puntaje de la generación 13:0.6625\n",
      "Puntajes: [0.6625 0.6575 0.64   0.64   0.64   0.64   0.64   0.64   0.2975]\n",
      "Entrenamientos completados!\n",
      "Mejor puntaje de la generación 14:0.7025\n",
      "Puntajes: [0.7025 0.6575 0.64   0.64   0.2975 0.2975]\n",
      "Entrenamientos completados!\n",
      "Mejor puntaje de la generación 15:0.7025\n",
      "Puntajes: [0.7025 0.64   0.64   0.64   0.64   0.64   0.64   0.64   0.2975 0.2975\n",
      " 0.2975 0.2975]\n",
      "Entrenamientos completados!\n",
      "Mejor puntaje de la generación 16:0.6575\n",
      "Puntajes: [0.6575 0.6575 0.6575 0.6575 0.6575 0.64   0.64   0.64   0.64   0.2975]\n",
      "Entrenamientos completados!\n",
      "Mejor puntaje de la generación 17:0.6575\n",
      "Puntajes: [0.6575 0.6575 0.6575 0.64   0.6325 0.2975 0.2975 0.2975 0.2975]\n",
      "Entrenamientos completados!\n",
      "Mejor puntaje de la generación 18:0.6575\n",
      "Puntajes: [0.6575 0.6575 0.6575 0.64   0.64   0.64   0.64   0.64   0.3425 0.2975\n",
      " 0.2975 0.2975]\n",
      "Entrenamientos completados!\n",
      "Mejor puntaje de la generación 19:1.0\n",
      "Puntajes: [1.     0.6575 0.6575 0.6575 0.6575 0.64   0.64   0.64   0.64   0.64\n",
      " 0.64   0.64   0.2975]\n",
      "Solución: [ 6.  9. 11.  4.]\n"
     ]
    }
   ],
   "source": [
    "for generacion in range (0, totalGeneraciones):\n",
    "    poblacion = cruzarPoblacion(poblacion, 0.3)\n",
    "    poblacion = mutarPoblacion(poblacion, 0.3)\n",
    "    poblacion, mejorPuntaje, puntajes = evaluacion(poblacion, x_train, y_train, x_test, y_test)\n",
    "    poblacion = eliminarIndividuosPorCantidad(poblacion, 5)\n",
    "    print(\"Mejor puntaje de la generación \" + str(generacion) + \":\" + str(mejorPuntaje))\n",
    "    print(\"Puntajes: \" + str(puntajes))\n",
    "    if(mejorPuntaje == 1):\n",
    "        break\n",
    "    \n",
    "print(\"Solución: \" + str(poblacion[0]))"
   ]
  },
  {
   "cell_type": "code",
   "execution_count": 11,
   "metadata": {},
   "outputs": [
    {
     "name": "stdout",
     "output_type": "stream",
     "text": [
      "Score (accuracy): 1.0\n"
     ]
    }
   ],
   "source": [
    "redNeuronalNueva = MLPClassifier(hidden_layer_sizes=(6, 9, 11, 4), max_iter=500, activation ='logistic', tol= 1e-8)\n",
    "redNeuronalNueva.fit(x_train, y_train)\n",
    "print(\"Score (accuracy): \" + str(redNeuronalNueva.score(x_test, y_test)))"
   ]
  },
  {
   "cell_type": "code",
   "execution_count": null,
   "metadata": {},
   "outputs": [],
   "source": []
  }
 ],
 "metadata": {
  "kernelspec": {
   "display_name": "Python 3",
   "language": "python",
   "name": "python3"
  },
  "language_info": {
   "codemirror_mode": {
    "name": "ipython",
    "version": 3
   },
   "file_extension": ".py",
   "mimetype": "text/x-python",
   "name": "python",
   "nbconvert_exporter": "python",
   "pygments_lexer": "ipython3",
   "version": "3.8.2"
  }
 },
 "nbformat": 4,
 "nbformat_minor": 4
}
