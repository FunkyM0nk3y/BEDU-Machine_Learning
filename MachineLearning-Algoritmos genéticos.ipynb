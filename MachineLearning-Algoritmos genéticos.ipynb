{
 "cells": [
  {
   "cell_type": "markdown",
   "metadata": {},
   "source": [
    "## Algoritmos genéticos\n",
    "### Individuos"
   ]
  },
  {
   "cell_type": "code",
   "execution_count": 6,
   "metadata": {},
   "outputs": [],
   "source": [
    "import random as rnd\n",
    "\n",
    "def inicializarIndividuo(individuo):\n",
    "    total = 1.0\n",
    "    cantidadGenes = len(individuo)\n",
    "    \n",
    "    for counter in range(0, cantidadGenes):\n",
    "        if(counter == cantidadGenes - 1):\n",
    "            individuo[counter] = total\n",
    "        else:\n",
    "            randomValue = rnd.uniform(0, total)\n",
    "            individuo[counter] = randomValue\n",
    "            total -= randomValue\n",
    "    return individuo"
   ]
  },
  {
   "cell_type": "code",
   "execution_count": 7,
   "metadata": {},
   "outputs": [],
   "source": [
    "import numpy as np\n",
    "\n",
    "def generarPoblacion(cantidadDeIndividuos, cantidadDeGenes):\n",
    "    poblacion = np.zeros((cantidadDeIndividuos, cantidadDeGenes))\n",
    "    \n",
    "    for counter in range(0, cantidadDeIndividuos):\n",
    "        poblacion[counter] = inicializarIndividuo(poblacion[counter])\n",
    "    return poblacion"
   ]
  },
  {
   "cell_type": "code",
   "execution_count": 8,
   "metadata": {},
   "outputs": [
    {
     "name": "stdout",
     "output_type": "stream",
     "text": [
      "[[0.55615895 0.27390707 0.16993398]\n",
      " [0.7605732  0.16254537 0.07688142]\n",
      " [0.86592821 0.03036824 0.10370355]\n",
      " [0.83290355 0.14987963 0.01721682]\n",
      " [0.5248863  0.19180664 0.28330707]]\n"
     ]
    }
   ],
   "source": [
    "poblacion = generarPoblacion(cantidadDeIndividuos=5, cantidadDeGenes=3)\n",
    "print(poblacion)"
   ]
  },
  {
   "cell_type": "code",
   "execution_count": 9,
   "metadata": {},
   "outputs": [],
   "source": [
    "def cruzarIndividuos(individuo1, individuo2):\n",
    "    crossPoint = rnd.randint(1, len(individuo1) - 2)\n",
    "    hijo1 = np.append(individuo1[0:crossPoint], individuo2[crossPoint:len(individuo1)])\n",
    "    hijo2 = np.append(individuo2[0:crossPoint], individuo1[crossPoint:len(individuo1)])\n",
    "    hijo1 = ajustarIndividuo(hijo1)\n",
    "    hijo2 = ajustarIndividuo(hijo2)\n",
    "    return np.array([hijo1, hijo2])"
   ]
  },
  {
   "cell_type": "code",
   "execution_count": 10,
   "metadata": {},
   "outputs": [],
   "source": [
    "def ajustarIndividuo(individuo):\n",
    "    total = np.sum(individuo)\n",
    "    individuo = individuo / total\n",
    "    return individuo"
   ]
  },
  {
   "cell_type": "code",
   "execution_count": 11,
   "metadata": {},
   "outputs": [],
   "source": [
    "def cruzarPoblacion(poblacion, probabilidadDeCruza):\n",
    "    nuevaPoblacion = None\n",
    "    for counter in range(len(poblacion)):\n",
    "        probabilidad = rnd.random()\n",
    "        if(probabilidad < probabilidadDeCruza):\n",
    "            pareja = rnd.randint(0, len(poblacion) - 2)\n",
    "            while pareja == counter:\n",
    "                pareja = rnd.randint(0, len(poblacion) - 2)\n",
    "                \n",
    "            nuevosIndividuos = cruzarIndividuos(poblacion[counter], poblacion[pareja])\n",
    "            \n",
    "            if nuevaPoblacion is None:\n",
    "                nuevaPoblacion = nuevosIndividuos\n",
    "            else:\n",
    "                nuevaPoblacion = np.concatenate((nuevaPoblacion, nuevosIndividuos))\n",
    "                \n",
    "        if not nuevaPoblacion is None:\n",
    "            poblacion = np.concatenate((poblacion, nuevaPoblacion))\n",
    "        return poblacion"
   ]
  },
  {
   "cell_type": "code",
   "execution_count": 12,
   "metadata": {},
   "outputs": [
    {
     "name": "stdout",
     "output_type": "stream",
     "text": [
      "[[3.31486092e-01 3.52172471e-01 1.55127431e-01 5.28680437e-03\n",
      "  4.91385823e-02 1.06788620e-01]\n",
      " [8.17422152e-01 8.58416639e-02 5.02051009e-02 3.35712650e-02\n",
      "  1.32041448e-03 1.16394042e-02]\n",
      " [5.46900048e-01 3.28749515e-01 9.94651646e-02 1.40323549e-02\n",
      "  5.37642866e-04 1.03152751e-02]\n",
      " [4.18988620e-01 4.41898851e-02 4.40807669e-01 4.85535502e-02\n",
      "  7.26183881e-04 4.67340913e-02]\n",
      " [1.53767352e-01 7.82475554e-01 6.05573553e-02 3.01063982e-03\n",
      "  1.44133046e-04 4.49654309e-05]\n",
      " [5.81705225e-01 3.31567193e-01 5.36671956e-02 2.45769739e-02\n",
      "  2.83039581e-03 5.65301719e-03]\n",
      " [7.88397639e-01 1.55647342e-01 4.30482692e-02 9.48727626e-03\n",
      "  2.14798906e-03 1.27148370e-03]\n",
      " [5.98666748e-01 3.54200192e-01 3.46400084e-02 3.77261737e-03\n",
      "  2.85776590e-03 5.86266846e-03]]\n"
     ]
    }
   ],
   "source": [
    "poblacionBasal = generarPoblacion(8, 6)\n",
    "print(poblacionBasal)"
   ]
  },
  {
   "cell_type": "code",
   "execution_count": 14,
   "metadata": {},
   "outputs": [
    {
     "name": "stdout",
     "output_type": "stream",
     "text": [
      "[[3.31486092e-01 3.52172471e-01 1.55127431e-01 5.28680437e-03\n",
      "  4.91385823e-02 1.06788620e-01]\n",
      " [8.17422152e-01 8.58416639e-02 5.02051009e-02 3.35712650e-02\n",
      "  1.32041448e-03 1.16394042e-02]\n",
      " [5.46900048e-01 3.28749515e-01 9.94651646e-02 1.40323549e-02\n",
      "  5.37642866e-04 1.03152751e-02]\n",
      " [4.18988620e-01 4.41898851e-02 4.40807669e-01 4.85535502e-02\n",
      "  7.26183881e-04 4.67340913e-02]\n",
      " [1.53767352e-01 7.82475554e-01 6.05573553e-02 3.01063982e-03\n",
      "  1.44133046e-04 4.49654309e-05]\n",
      " [5.81705225e-01 3.31567193e-01 5.36671956e-02 2.45769739e-02\n",
      "  2.83039581e-03 5.65301719e-03]\n",
      " [7.88397639e-01 1.55647342e-01 4.30482692e-02 9.48727626e-03\n",
      "  2.14798906e-03 1.27148370e-03]\n",
      " [5.98666748e-01 3.54200192e-01 3.46400084e-02 3.77261737e-03\n",
      "  2.85776590e-03 5.86266846e-03]]\n"
     ]
    }
   ],
   "source": [
    "poblacionNueva = cruzarPoblacion(poblacionBasal, 0.385)\n",
    "print(poblacionNueva)"
   ]
  },
  {
   "cell_type": "markdown",
   "metadata": {},
   "source": [
    "### Mutaciones"
   ]
  },
  {
   "cell_type": "code",
   "execution_count": 21,
   "metadata": {},
   "outputs": [],
   "source": [
    "def mutacion(individuo):\n",
    "    mutationPoint = rnd.randint(1, len(individuo) - 2)\n",
    "    mutationValue = rnd.uniform(0.1, 0.3)\n",
    "    individuoMutante = np.array(individuo, copy=True)\n",
    "    individuoMutante[mutationPoint] += mutationValue\n",
    "    individuoMutante = ajustarIndividuo(individuoMutante)\n",
    "    return np.array([individuoMutante])"
   ]
  },
  {
   "cell_type": "code",
   "execution_count": 22,
   "metadata": {},
   "outputs": [],
   "source": [
    "def mutarPoblacion(poblacion, probabilidadDeMutacion):\n",
    "    nuevaPoblacion = None\n",
    "    for counter in range(len(poblacion)):\n",
    "        probabilidad = rnd.random()\n",
    "        if(probabilidad < probabilidadDeMutacion):\n",
    "            nuevoMutante = mutacion(poblacion[counter])\n",
    "            if nuevaPoblacion is None:\n",
    "                nuevaPoblacion = nuevoMutante\n",
    "            else:\n",
    "                nuevaPoblacion = np.concatenate((nuevaPoblacion, nuevoMutante))\n",
    "    if not nuevaPoblacion is None:\n",
    "        poblacion = np.concatenate((poblacion, nuevaPoblacion))\n",
    "    return poblacion"
   ]
  },
  {
   "cell_type": "code",
   "execution_count": 23,
   "metadata": {},
   "outputs": [
    {
     "name": "stdout",
     "output_type": "stream",
     "text": [
      "[[3.31486092e-01 3.52172471e-01 1.55127431e-01 5.28680437e-03\n",
      "  4.91385823e-02 1.06788620e-01]\n",
      " [8.17422152e-01 8.58416639e-02 5.02051009e-02 3.35712650e-02\n",
      "  1.32041448e-03 1.16394042e-02]\n",
      " [5.46900048e-01 3.28749515e-01 9.94651646e-02 1.40323549e-02\n",
      "  5.37642866e-04 1.03152751e-02]\n",
      " [4.18988620e-01 4.41898851e-02 4.40807669e-01 4.85535502e-02\n",
      "  7.26183881e-04 4.67340913e-02]\n",
      " [1.53767352e-01 7.82475554e-01 6.05573553e-02 3.01063982e-03\n",
      "  1.44133046e-04 4.49654309e-05]\n",
      " [5.81705225e-01 3.31567193e-01 5.36671956e-02 2.45769739e-02\n",
      "  2.83039581e-03 5.65301719e-03]\n",
      " [7.88397639e-01 1.55647342e-01 4.30482692e-02 9.48727626e-03\n",
      "  2.14798906e-03 1.27148370e-03]\n",
      " [5.98666748e-01 3.54200192e-01 3.46400084e-02 3.77261737e-03\n",
      "  2.85776590e-03 5.86266846e-03]\n",
      " [3.59072290e-01 3.78706306e-02 5.20773450e-01 4.16102816e-02\n",
      "  6.22337927e-04 4.00510095e-02]]\n"
     ]
    }
   ],
   "source": [
    "poblacionMutante = mutarPoblacion(poblacionNueva, 0.128)\n",
    "print(poblacionMutante)"
   ]
  },
  {
   "cell_type": "markdown",
   "metadata": {},
   "source": [
    "### Supervivencia"
   ]
  },
  {
   "cell_type": "code",
   "execution_count": 30,
   "metadata": {},
   "outputs": [],
   "source": [
    "def evaluacion(poblacion, ganancias, probabilidadDeExito):\n",
    "    puntaje = np.zeros(poblacion.shape[0])\n",
    "    \n",
    "    puntajeDeGanancia = np.dot(poblacion, ganancias)\n",
    "    puntajeDeExito = np.dot(poblacion, probabilidadDeExito)\n",
    "    puntaje = puntajeDeGanancia + puntajeDeExito\n",
    "    \n",
    "    ordenDeMayorAMenor = np.argsort(-puntaje)\n",
    "    poblacionOrdenada = poblacion[ordenDeMayorAMenor]\n",
    "    mejorPuntaje = (np.sort(-puntaje)[0]) * -1\n",
    "    return poblacionOrdenada, mejorPuntaje"
   ]
  },
  {
   "cell_type": "code",
   "execution_count": 31,
   "metadata": {},
   "outputs": [],
   "source": [
    "def eliminarIndividuosPorPorcentaje(poblacion, porcentajeAMantener):\n",
    "    cantidad = poblacion.shape[0]\n",
    "    cantidadAMantener = int(porcentajeAMantener * cantidad)\n",
    "    return poblacion[:cantidadAMantener]"
   ]
  },
  {
   "cell_type": "code",
   "execution_count": 32,
   "metadata": {},
   "outputs": [],
   "source": [
    "def eliminarIndividuosPorCantidad(poblacion, cantidadAMantener):\n",
    "    return poblacion[:cantidadAMantener]"
   ]
  },
  {
   "cell_type": "code",
   "execution_count": 35,
   "metadata": {},
   "outputs": [
    {
     "name": "stdout",
     "output_type": "stream",
     "text": [
      "Solución: [0.55615895 0.27390707 0.16993398]\n"
     ]
    }
   ],
   "source": [
    "poblacionBasal = generarPoblacion(10, 4)\n",
    "totalGeneracion = 0\n",
    "ganacias = [0.1, 0.1, 0.9, 0.1]\n",
    "probabilidadesDeExito = [0.1, 0.1, 0.9, 0.1]\n",
    "\n",
    "for generacion in range(0, totalGeneracion):\n",
    "    poblacion = cruzarPoblacion(poblacionBasal, 0.385)\n",
    "    poblacio = mutarPoblacion(poblacionCruzada, 0.128)\n",
    "    poblacion, mejorPuntaje = evaluacion(poblacion, ganancias, probabilidadDeExito)\n",
    "    poblacion = eliminarIndividuosPorCantidad(poblacion, 5)\n",
    "    print(\"Mejor puntaje de la generación: \" + str(generacion) + \"\\n\"+ \"Mejor puntaje: \" + str(mejorPuntaje))\n",
    "    generacion +=1\n",
    "    \n",
    "print(\"Solución: \" + str(poblacion[0]))"
   ]
  },
  {
   "cell_type": "code",
   "execution_count": null,
   "metadata": {},
   "outputs": [],
   "source": []
  }
 ],
 "metadata": {
  "kernelspec": {
   "display_name": "Python 3",
   "language": "python",
   "name": "python3"
  },
  "language_info": {
   "codemirror_mode": {
    "name": "ipython",
    "version": 3
   },
   "file_extension": ".py",
   "mimetype": "text/x-python",
   "name": "python",
   "nbconvert_exporter": "python",
   "pygments_lexer": "ipython3",
   "version": "3.8.2"
  }
 },
 "nbformat": 4,
 "nbformat_minor": 4
}
